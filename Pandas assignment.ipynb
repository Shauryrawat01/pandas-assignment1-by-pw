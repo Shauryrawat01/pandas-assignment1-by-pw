{
 "cells": [
  {
   "cell_type": "code",
   "execution_count": 1,
   "id": "1f89e49c-ba2d-41e0-911b-a5cf56391aba",
   "metadata": {},
   "outputs": [
    {
     "data": {
      "text/plain": [
       "0     4\n",
       "1     8\n",
       "2    15\n",
       "3    16\n",
       "4    23\n",
       "5    42\n",
       "dtype: int64"
      ]
     },
     "execution_count": 1,
     "metadata": {},
     "output_type": "execute_result"
    }
   ],
   "source": [
    "#Question 1\n",
    "import pandas as pd\n",
    "\n",
    "data = [4, 8, 15, 16, 23, 42]\n",
    "series = pd.Series(data)\n",
    "series"
   ]
  },
  {
   "cell_type": "code",
   "execution_count": 3,
   "id": "56167c26-2b5f-4cc2-9337-109312deed5f",
   "metadata": {},
   "outputs": [
    {
     "data": {
      "text/plain": [
       "0     1\n",
       "1     2\n",
       "2     3\n",
       "3     4\n",
       "4     5\n",
       "5     6\n",
       "6     7\n",
       "7     8\n",
       "8     9\n",
       "9    10\n",
       "dtype: int64"
      ]
     },
     "execution_count": 3,
     "metadata": {},
     "output_type": "execute_result"
    }
   ],
   "source": [
    "#Question 2\n",
    "a=[1,2,3,4,5,6,7,8,9,10]\n",
    "s1=pd.Series(a)\n",
    "s1"
   ]
  },
  {
   "cell_type": "code",
   "execution_count": 6,
   "id": "bb285f61-45fd-4f6b-8240-7d6dcaa05425",
   "metadata": {},
   "outputs": [
    {
     "data": {
      "text/html": [
       "<div>\n",
       "<style scoped>\n",
       "    .dataframe tbody tr th:only-of-type {\n",
       "        vertical-align: middle;\n",
       "    }\n",
       "\n",
       "    .dataframe tbody tr th {\n",
       "        vertical-align: top;\n",
       "    }\n",
       "\n",
       "    .dataframe thead th {\n",
       "        text-align: right;\n",
       "    }\n",
       "</style>\n",
       "<table border=\"1\" class=\"dataframe\">\n",
       "  <thead>\n",
       "    <tr style=\"text-align: right;\">\n",
       "      <th></th>\n",
       "      <th>Name</th>\n",
       "      <th>Age</th>\n",
       "      <th>Gender</th>\n",
       "    </tr>\n",
       "  </thead>\n",
       "  <tbody>\n",
       "    <tr>\n",
       "      <th>0</th>\n",
       "      <td>Alice</td>\n",
       "      <td>25</td>\n",
       "      <td>Female</td>\n",
       "    </tr>\n",
       "    <tr>\n",
       "      <th>1</th>\n",
       "      <td>Bob</td>\n",
       "      <td>30</td>\n",
       "      <td>Male</td>\n",
       "    </tr>\n",
       "    <tr>\n",
       "      <th>2</th>\n",
       "      <td>Claire</td>\n",
       "      <td>27</td>\n",
       "      <td>Female</td>\n",
       "    </tr>\n",
       "  </tbody>\n",
       "</table>\n",
       "</div>"
      ],
      "text/plain": [
       "     Name  Age  Gender\n",
       "0   Alice   25  Female\n",
       "1     Bob   30    Male\n",
       "2  Claire   27  Female"
      ]
     },
     "execution_count": 6,
     "metadata": {},
     "output_type": "execute_result"
    }
   ],
   "source": [
    "#Qusetion 3\n",
    "df= pd.read_csv(\"shaury practice csv.csv\")\n",
    "df"
   ]
  },
  {
   "cell_type": "raw",
   "id": "1c56e7a7-7f27-4ab8-990d-21c8019a80fc",
   "metadata": {},
   "source": [
    "#Question 4\n",
    "Data frame= DataFrame as a whole table it has rows and columns with labels.\n",
    "\n",
    "series= it is like a single column from that table.\n",
    "\n",
    "DFexample=\n",
    "df= pd.read_csv(\"shaury practice csv.csv\")\n",
    "df\n",
    "\n",
    "Series example=df['name']"
   ]
  },
  {
   "cell_type": "raw",
   "id": "d677774b-8900-4f50-b3eb-9d63e3d7b97c",
   "metadata": {},
   "source": [
    "#Question 5\n",
    "#Some common example for data manipulation are\n",
    "df.head(2)# we are using for get first 2 row of data \n",
    "df.tail(2)# we use this for getting last 2 row of data\n",
    "df.to_csv()# this is used save changed csv file in local computer\n",
    "df['Name']#it extract the single row from a coloum\n",
    "df.columns #this is used for getting all columns\n"
   ]
  },
  {
   "cell_type": "raw",
   "id": "41fd9d9a-b107-4653-b584-3ffec98c2f02",
   "metadata": {},
   "source": [
    "#Question 6\n",
    "in pandas case both dataframes pane everything is mutable"
   ]
  },
  {
   "cell_type": "code",
   "execution_count": null,
   "id": "c84d1407-3ac9-4895-851a-52538743bca6",
   "metadata": {},
   "outputs": [],
   "source": [
    "#Question 7\n",
    "#Qusetion 3\n",
    "df= pd.read_csv(\"shaury practice csv.csv\")\n",
    "df.colunm"
   ]
  }
 ],
 "metadata": {
  "kernelspec": {
   "display_name": "Python 3 (ipykernel)",
   "language": "python",
   "name": "python3"
  },
  "language_info": {
   "codemirror_mode": {
    "name": "ipython",
    "version": 3
   },
   "file_extension": ".py",
   "mimetype": "text/x-python",
   "name": "python",
   "nbconvert_exporter": "python",
   "pygments_lexer": "ipython3",
   "version": "3.11.4"
  }
 },
 "nbformat": 4,
 "nbformat_minor": 5
}
